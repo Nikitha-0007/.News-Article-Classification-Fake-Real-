
{
 "cells": [
  {
   "cell_type": "markdown",
   "metadata": {},
   "source": [
    "# 📰 Fake News Detection using NLP & ML\n",
    "## Tools: Python, NLTK, Sklearn, Pandas"
   ]
  },
  {
   "cell_type": "code",
   "execution_count": null,
   "metadata": {},
   "outputs": [],
   "source": [
    "# Install required libraries (run this in Colab)
",
    "!pip install nltk scikit-learn pandas"
   ]
  },
  {
   "cell_type": "code",
   "execution_count": null,
   "metadata": {},
   "outputs": [],
   "source": [
    "import pandas as pd
",
    "import numpy as np
",
    "import nltk
",
    "from nltk.corpus import stopwords
",
    "from nltk.stem import PorterStemmer
",
    "import string
",
    "from sklearn.feature_extraction.text import TfidfVectorizer
",
    "from sklearn.model_selection import train_test_split
",
    "from sklearn.linear_model import LogisticRegression
",
    "from sklearn.naive_bayes import MultinomialNB
",
    "from sklearn.metrics import accuracy_score, f1_score, classification_report
",
    "import pickle
",
    "
",
    "nltk.download('stopwords')"
   ]
  },
  {
   "cell_type": "code",
   "execution_count": null,
   "metadata": {},
   "outputs": [],
   "source": [
    "# Load dataset (upload 'Fake.csv' and 'True.csv' from Kaggle)
",
    "df_fake = pd.read_csv("Fake.csv")
",
    "df_real = pd.read_csv("True.csv")
",
    "
",
    "df_fake['label'] = 0  # Fake
",
    "df_real['label'] = 1  # Real
",
    "
",
    "df = pd.concat([df_fake, df_real], ignore_index=True)
",
    "df = df.sample(frac=1).reset_index(drop=True)
",
    "
",
    "df['text'] = df['title'] + " " + df['text']
",
    "df = df[['text', 'label']]"
   ]
  },
  {
   "cell_type": "code",
   "execution_count": null,
   "metadata": {},
   "outputs": [],
   "source": [
    "# Clean the text
",
    "stop_words = set(stopwords.words('english'))
",
    "stemmer = PorterStemmer()
",
    "
",
    "def clean_text(text):
",
    "    text = text.lower()
",
    "    text = ''.join([ch for ch in text if ch not in string.punctuation])
",
    "    tokens = text.split()
",
    "    tokens = [stemmer.stem(word) for word in tokens if word not in stop_words]
",
    "    return " ".join(tokens)
",
    "
",
    "df['clean_text'] = df['text'].apply(clean_text)"
   ]
  },
  {
   "cell_type": "code",
   "execution_count": null,
   "metadata": {},
   "outputs": [],
   "source": [
    "# TF-IDF Vectorization
",
    "tfidf = TfidfVectorizer(max_features=5000)
",
    "X = tfidf.fit_transform(df['clean_text']).toarray()
",
    "y = df['label']"
   ]
  },
  {
   "cell_type": "code",
   "execution_count": null,
   "metadata": {},
   "outputs": [],
   "source": [
    "# Train/Test Split
",
    "X_train, X_test, y_train, y_test = train_test_split(X, y, test_size=0.2, random_state=42)"
   ]
  },
  {
   "cell_type": "code",
   "execution_count": null,
   "metadata": {},
   "outputs": [],
   "source": [
    "# Logistic Regression Model
",
    "lr_model = LogisticRegression()
",
    "lr_model.fit(X_train, y_train)
",
    "y_pred_lr = lr_model.predict(X_test)"
   ]
  },
  {
   "cell_type": "code",
   "execution_count": null,
   "metadata": {},
   "outputs": [],
   "source": [
    "# Naive Bayes Model
",
    "nb_model = MultinomialNB()
",
    "nb_model.fit(X_train, y_train)
",
    "y_pred_nb = nb_model.predict(X_test)"
   ]
  },
  {
   "cell_type": "code",
   "execution_count": null,
   "metadata": {},
   "outputs": [],
   "source": [
    "# Evaluation
",
    "print("Logistic Regression:")
",
    "print("Accuracy:", accuracy_score(y_test, y_pred_lr))
",
    "print("F1 Score:", f1_score(y_test, y_pred_lr))
",
    "print("\nNaive Bayes:")
",
    "print("Accuracy:", accuracy_score(y_test, y_pred_nb))
",
    "print("F1 Score:", f1_score(y_test, y_pred_nb))"
   ]
  },
  {
   "cell_type": "code",
   "execution_count": null,
   "metadata": {},
   "outputs": [],
   "source": [
    "# Save model and vectorizer
",
    "pickle.dump(lr_model, open("lr_model.pkl", "wb"))
",
    "pickle.dump(tfidf, open("tfidf.pkl", "wb"))"
   ]
  }
 ],
 "metadata": {
  "kernelspec": {
   "display_name": "Python 3",
   "language": "python",
   "name": "python3"
  },
  "language_info": {
   "name": "python",
   "version": ""
  }
 },
 "nbformat": 4,
 "nbformat_minor": 5
}
